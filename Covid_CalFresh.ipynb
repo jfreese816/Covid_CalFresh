{
 "cells": [
  {
   "cell_type": "markdown",
   "metadata": {},
   "source": [
    "# Observations and Insights"
   ]
  },
  {
   "cell_type": "markdown",
   "metadata": {},
   "source": [
    "<hr>"
   ]
  },
  {
   "cell_type": "code",
   "execution_count": 1,
   "metadata": {},
   "outputs": [],
   "source": [
    "# Dependencies and Setup\n",
    "import matplotlib.pyplot as plt\n",
    "import pandas as pd\n",
    "import scipy.stats as st\n",
    "import numpy as np\n",
    "\n",
    "# CalFresh data file path (DeJuan)\n",
    "calfresh_data_path = \"Resources/CalFresh Data 19 - Current.csv\"\n",
    "# Census data file path (Jackson)\n",
    "census_data_path = \"Resources/co-est2019-alldata.csv\"\n",
    "# us-counties data file path (Siddharth)\n",
    "all_counties_path = \"Resources/us-counties.csv\"\n"
   ]
  },
  {
   "cell_type": "code",
   "execution_count": 2,
   "metadata": {},
   "outputs": [
    {
     "output_type": "execute_result",
     "data": {
      "text/plain": [
       "      County    Month    Date  Year Unemployment Monthly Households  \\\n",
       "0  Statewide  January  Jan-19  2019                 4.8%  1,906,041   \n",
       "1    Alameda  January  Jan-19  2019                 0.3%     53,529   \n",
       "2     Alpine  January  Jan-19  2019                 4.7%         70   \n",
       "3     Amador  January  Jan-19  2019                 4.9%      1,462   \n",
       "4      Butte  January  Jan-19  2019                 6.6%     16,535   \n",
       "\n",
       "     Persons Applications Recevied Online Applications Received     EBT Cash  \n",
       "0  3,764,747               165,779                       72,917  936,417,639  \n",
       "1     93,512                 5,515                        2,428   24,484,650  \n",
       "2        114                     4                            1       27,662  \n",
       "3      2,573                   154                           40      607,423  \n",
       "4     29,634                 2,043                        1,085    7,170,854  "
      ],
      "text/html": "<div>\n<style scoped>\n    .dataframe tbody tr th:only-of-type {\n        vertical-align: middle;\n    }\n\n    .dataframe tbody tr th {\n        vertical-align: top;\n    }\n\n    .dataframe thead th {\n        text-align: right;\n    }\n</style>\n<table border=\"1\" class=\"dataframe\">\n  <thead>\n    <tr style=\"text-align: right;\">\n      <th></th>\n      <th>County</th>\n      <th>Month</th>\n      <th>Date</th>\n      <th>Year</th>\n      <th>Unemployment Monthly</th>\n      <th>Households</th>\n      <th>Persons</th>\n      <th>Applications Recevied</th>\n      <th>Online Applications Received</th>\n      <th>EBT Cash</th>\n    </tr>\n  </thead>\n  <tbody>\n    <tr>\n      <th>0</th>\n      <td>Statewide</td>\n      <td>January</td>\n      <td>Jan-19</td>\n      <td>2019</td>\n      <td>4.8%</td>\n      <td>1,906,041</td>\n      <td>3,764,747</td>\n      <td>165,779</td>\n      <td>72,917</td>\n      <td>936,417,639</td>\n    </tr>\n    <tr>\n      <th>1</th>\n      <td>Alameda</td>\n      <td>January</td>\n      <td>Jan-19</td>\n      <td>2019</td>\n      <td>0.3%</td>\n      <td>53,529</td>\n      <td>93,512</td>\n      <td>5,515</td>\n      <td>2,428</td>\n      <td>24,484,650</td>\n    </tr>\n    <tr>\n      <th>2</th>\n      <td>Alpine</td>\n      <td>January</td>\n      <td>Jan-19</td>\n      <td>2019</td>\n      <td>4.7%</td>\n      <td>70</td>\n      <td>114</td>\n      <td>4</td>\n      <td>1</td>\n      <td>27,662</td>\n    </tr>\n    <tr>\n      <th>3</th>\n      <td>Amador</td>\n      <td>January</td>\n      <td>Jan-19</td>\n      <td>2019</td>\n      <td>4.9%</td>\n      <td>1,462</td>\n      <td>2,573</td>\n      <td>154</td>\n      <td>40</td>\n      <td>607,423</td>\n    </tr>\n    <tr>\n      <th>4</th>\n      <td>Butte</td>\n      <td>January</td>\n      <td>Jan-19</td>\n      <td>2019</td>\n      <td>6.6%</td>\n      <td>16,535</td>\n      <td>29,634</td>\n      <td>2,043</td>\n      <td>1,085</td>\n      <td>7,170,854</td>\n    </tr>\n  </tbody>\n</table>\n</div>"
     },
     "metadata": {},
     "execution_count": 2
    }
   ],
   "source": [
    "# Read the all three datasets (D,J,S)\n",
    "# Lots of problems reading the file. After awhile, figured out \n",
    "# it was encoded ANSI and not utf-8. After re-coding, using notepad. it worked. lost 30 min.\n",
    "calfresh_data = pd.read_csv(calfresh_data_path)\n",
    "\n",
    "# rename columns.\n",
    "calfresh_data.rename(columns = {'Calendar Year' : 'Year', 'Unemployment Monthly\t' : 'Unemployment', \n",
    "                                'CalFresh Households' : 'Households', 'CalFresh Persons' : 'Persons', \n",
    "                                'EBT_FSP_dollars' : 'EBT Cash'}, inplace = True)\n",
    "\n",
    "calfresh_data.head()"
   ]
  },
  {
   "cell_type": "code",
   "execution_count": 3,
   "metadata": {},
   "outputs": [
    {
     "output_type": "execute_result",
     "data": {
      "text/plain": [
       "               county       state     fips  cases  deaths\n",
       "date                                                     \n",
       "2020-01-21  Snohomish  Washington  53061.0      1     0.0\n",
       "2020-01-22  Snohomish  Washington  53061.0      1     0.0\n",
       "2020-01-23  Snohomish  Washington  53061.0      1     0.0\n",
       "2020-01-24       Cook    Illinois  17031.0      1     0.0\n",
       "2020-01-24  Snohomish  Washington  53061.0      1     0.0"
      ],
      "text/html": "<div>\n<style scoped>\n    .dataframe tbody tr th:only-of-type {\n        vertical-align: middle;\n    }\n\n    .dataframe tbody tr th {\n        vertical-align: top;\n    }\n\n    .dataframe thead th {\n        text-align: right;\n    }\n</style>\n<table border=\"1\" class=\"dataframe\">\n  <thead>\n    <tr style=\"text-align: right;\">\n      <th></th>\n      <th>county</th>\n      <th>state</th>\n      <th>fips</th>\n      <th>cases</th>\n      <th>deaths</th>\n    </tr>\n    <tr>\n      <th>date</th>\n      <th></th>\n      <th></th>\n      <th></th>\n      <th></th>\n      <th></th>\n    </tr>\n  </thead>\n  <tbody>\n    <tr>\n      <th>2020-01-21</th>\n      <td>Snohomish</td>\n      <td>Washington</td>\n      <td>53061.0</td>\n      <td>1</td>\n      <td>0.0</td>\n    </tr>\n    <tr>\n      <th>2020-01-22</th>\n      <td>Snohomish</td>\n      <td>Washington</td>\n      <td>53061.0</td>\n      <td>1</td>\n      <td>0.0</td>\n    </tr>\n    <tr>\n      <th>2020-01-23</th>\n      <td>Snohomish</td>\n      <td>Washington</td>\n      <td>53061.0</td>\n      <td>1</td>\n      <td>0.0</td>\n    </tr>\n    <tr>\n      <th>2020-01-24</th>\n      <td>Cook</td>\n      <td>Illinois</td>\n      <td>17031.0</td>\n      <td>1</td>\n      <td>0.0</td>\n    </tr>\n    <tr>\n      <th>2020-01-24</th>\n      <td>Snohomish</td>\n      <td>Washington</td>\n      <td>53061.0</td>\n      <td>1</td>\n      <td>0.0</td>\n    </tr>\n  </tbody>\n</table>\n</div>"
     },
     "metadata": {},
     "execution_count": 3
    }
   ],
   "source": [
    "#CA County Data\n",
    "#Data cleanup: Separate date into 3 columns, MONTH, DATE, YEAR. Isolate counties to CA. Drop FIPS column. \n",
    "\n",
    "all_counties = pd.read_csv(all_counties_path,index_col=0, parse_dates=True)\n",
    "all_counties.head()\n"
   ]
  },
  {
   "cell_type": "code",
   "execution_count": 4,
   "metadata": {},
   "outputs": [
    {
     "output_type": "execute_result",
     "data": {
      "text/plain": [
       "                county       state  cases  deaths\n",
       "date                                             \n",
       "2020-01-21   Snohomish  Washington      1     0.0\n",
       "2020-01-22   Snohomish  Washington      1     0.0\n",
       "2020-01-23   Snohomish  Washington      1     0.0\n",
       "2020-01-24        Cook    Illinois      1     0.0\n",
       "2020-01-24   Snohomish  Washington      1     0.0\n",
       "...                ...         ...    ...     ...\n",
       "2021-04-22  Sweetwater     Wyoming   4151    37.0\n",
       "2021-04-22       Teton     Wyoming   3715     9.0\n",
       "2021-04-22       Uinta     Wyoming   2157    12.0\n",
       "2021-04-22    Washakie     Wyoming    897    26.0\n",
       "2021-04-22      Weston     Wyoming    647     5.0\n",
       "\n",
       "[1248308 rows x 4 columns]"
      ],
      "text/html": "<div>\n<style scoped>\n    .dataframe tbody tr th:only-of-type {\n        vertical-align: middle;\n    }\n\n    .dataframe tbody tr th {\n        vertical-align: top;\n    }\n\n    .dataframe thead th {\n        text-align: right;\n    }\n</style>\n<table border=\"1\" class=\"dataframe\">\n  <thead>\n    <tr style=\"text-align: right;\">\n      <th></th>\n      <th>county</th>\n      <th>state</th>\n      <th>cases</th>\n      <th>deaths</th>\n    </tr>\n    <tr>\n      <th>date</th>\n      <th></th>\n      <th></th>\n      <th></th>\n      <th></th>\n    </tr>\n  </thead>\n  <tbody>\n    <tr>\n      <th>2020-01-21</th>\n      <td>Snohomish</td>\n      <td>Washington</td>\n      <td>1</td>\n      <td>0.0</td>\n    </tr>\n    <tr>\n      <th>2020-01-22</th>\n      <td>Snohomish</td>\n      <td>Washington</td>\n      <td>1</td>\n      <td>0.0</td>\n    </tr>\n    <tr>\n      <th>2020-01-23</th>\n      <td>Snohomish</td>\n      <td>Washington</td>\n      <td>1</td>\n      <td>0.0</td>\n    </tr>\n    <tr>\n      <th>2020-01-24</th>\n      <td>Cook</td>\n      <td>Illinois</td>\n      <td>1</td>\n      <td>0.0</td>\n    </tr>\n    <tr>\n      <th>2020-01-24</th>\n      <td>Snohomish</td>\n      <td>Washington</td>\n      <td>1</td>\n      <td>0.0</td>\n    </tr>\n    <tr>\n      <th>...</th>\n      <td>...</td>\n      <td>...</td>\n      <td>...</td>\n      <td>...</td>\n    </tr>\n    <tr>\n      <th>2021-04-22</th>\n      <td>Sweetwater</td>\n      <td>Wyoming</td>\n      <td>4151</td>\n      <td>37.0</td>\n    </tr>\n    <tr>\n      <th>2021-04-22</th>\n      <td>Teton</td>\n      <td>Wyoming</td>\n      <td>3715</td>\n      <td>9.0</td>\n    </tr>\n    <tr>\n      <th>2021-04-22</th>\n      <td>Uinta</td>\n      <td>Wyoming</td>\n      <td>2157</td>\n      <td>12.0</td>\n    </tr>\n    <tr>\n      <th>2021-04-22</th>\n      <td>Washakie</td>\n      <td>Wyoming</td>\n      <td>897</td>\n      <td>26.0</td>\n    </tr>\n    <tr>\n      <th>2021-04-22</th>\n      <td>Weston</td>\n      <td>Wyoming</td>\n      <td>647</td>\n      <td>5.0</td>\n    </tr>\n  </tbody>\n</table>\n<p>1248308 rows × 4 columns</p>\n</div>"
     },
     "metadata": {},
     "execution_count": 4
    }
   ],
   "source": [
    "#Drop FIPS column\n",
    "all_counties_df = pd.DataFrame(all_counties)\n",
    "\n",
    "all_counties_df = all_counties_df.drop([\"fips\"], axis=1)\n",
    "all_counties_df"
   ]
  },
  {
   "cell_type": "code",
   "execution_count": 5,
   "metadata": {},
   "outputs": [
    {
     "output_type": "execute_result",
     "data": {
      "text/plain": [
       "                 county       state  cases  deaths\n",
       "date                                              \n",
       "2020-01-25       Orange  California      1     0.0\n",
       "2020-01-26  Los Angeles  California      1     0.0\n",
       "2020-01-26       Orange  California      1     0.0\n",
       "2020-01-27  Los Angeles  California      1     0.0\n",
       "2020-01-27       Orange  California      1     0.0\n",
       "...                 ...         ...    ...     ...\n",
       "2021-04-22       Tulare  California  49469   831.0\n",
       "2021-04-22     Tuolumne  California   4091    64.0\n",
       "2021-04-22      Ventura  California  80398  1002.0\n",
       "2021-04-22         Yolo  California  13606   200.0\n",
       "2021-04-22         Yuba  California   6138    44.0\n",
       "\n",
       "[23297 rows x 4 columns]"
      ],
      "text/html": "<div>\n<style scoped>\n    .dataframe tbody tr th:only-of-type {\n        vertical-align: middle;\n    }\n\n    .dataframe tbody tr th {\n        vertical-align: top;\n    }\n\n    .dataframe thead th {\n        text-align: right;\n    }\n</style>\n<table border=\"1\" class=\"dataframe\">\n  <thead>\n    <tr style=\"text-align: right;\">\n      <th></th>\n      <th>county</th>\n      <th>state</th>\n      <th>cases</th>\n      <th>deaths</th>\n    </tr>\n    <tr>\n      <th>date</th>\n      <th></th>\n      <th></th>\n      <th></th>\n      <th></th>\n    </tr>\n  </thead>\n  <tbody>\n    <tr>\n      <th>2020-01-25</th>\n      <td>Orange</td>\n      <td>California</td>\n      <td>1</td>\n      <td>0.0</td>\n    </tr>\n    <tr>\n      <th>2020-01-26</th>\n      <td>Los Angeles</td>\n      <td>California</td>\n      <td>1</td>\n      <td>0.0</td>\n    </tr>\n    <tr>\n      <th>2020-01-26</th>\n      <td>Orange</td>\n      <td>California</td>\n      <td>1</td>\n      <td>0.0</td>\n    </tr>\n    <tr>\n      <th>2020-01-27</th>\n      <td>Los Angeles</td>\n      <td>California</td>\n      <td>1</td>\n      <td>0.0</td>\n    </tr>\n    <tr>\n      <th>2020-01-27</th>\n      <td>Orange</td>\n      <td>California</td>\n      <td>1</td>\n      <td>0.0</td>\n    </tr>\n    <tr>\n      <th>...</th>\n      <td>...</td>\n      <td>...</td>\n      <td>...</td>\n      <td>...</td>\n    </tr>\n    <tr>\n      <th>2021-04-22</th>\n      <td>Tulare</td>\n      <td>California</td>\n      <td>49469</td>\n      <td>831.0</td>\n    </tr>\n    <tr>\n      <th>2021-04-22</th>\n      <td>Tuolumne</td>\n      <td>California</td>\n      <td>4091</td>\n      <td>64.0</td>\n    </tr>\n    <tr>\n      <th>2021-04-22</th>\n      <td>Ventura</td>\n      <td>California</td>\n      <td>80398</td>\n      <td>1002.0</td>\n    </tr>\n    <tr>\n      <th>2021-04-22</th>\n      <td>Yolo</td>\n      <td>California</td>\n      <td>13606</td>\n      <td>200.0</td>\n    </tr>\n    <tr>\n      <th>2021-04-22</th>\n      <td>Yuba</td>\n      <td>California</td>\n      <td>6138</td>\n      <td>44.0</td>\n    </tr>\n  </tbody>\n</table>\n<p>23297 rows × 4 columns</p>\n</div>"
     },
     "metadata": {},
     "execution_count": 5
    }
   ],
   "source": [
    "#Isolate counties to CA \n",
    "\n",
    "CA_counties_df = all_counties_df[all_counties_df[\"state\"] == \"California\"]\n",
    "CA_counties_df\n"
   ]
  },
  {
   "cell_type": "code",
   "execution_count": 6,
   "metadata": {},
   "outputs": [
    {
     "output_type": "stream",
     "name": "stderr",
     "text": [
      "<ipython-input-6-e3f30398d33d>:4: SettingWithCopyWarning: \nA value is trying to be set on a copy of a slice from a DataFrame.\nTry using .loc[row_indexer,col_indexer] = value instead\n\nSee the caveats in the documentation: https://pandas.pydata.org/pandas-docs/stable/user_guide/indexing.html#returning-a-view-versus-a-copy\n  CA_counties_df[\"Day\"] = CA_counties_df[\"date\"].dt.day\n<ipython-input-6-e3f30398d33d>:5: SettingWithCopyWarning: \nA value is trying to be set on a copy of a slice from a DataFrame.\nTry using .loc[row_indexer,col_indexer] = value instead\n\nSee the caveats in the documentation: https://pandas.pydata.org/pandas-docs/stable/user_guide/indexing.html#returning-a-view-versus-a-copy\n  CA_counties_df[\"Month\"] = CA_counties_df[\"date\"].dt.month\n<ipython-input-6-e3f30398d33d>:6: SettingWithCopyWarning: \nA value is trying to be set on a copy of a slice from a DataFrame.\nTry using .loc[row_indexer,col_indexer] = value instead\n\nSee the caveats in the documentation: https://pandas.pydata.org/pandas-docs/stable/user_guide/indexing.html#returning-a-view-versus-a-copy\n  CA_counties_df[\"Year\"] = CA_counties_df[\"date\"].dt.year\n"
     ]
    },
    {
     "output_type": "execute_result",
     "data": {
      "text/plain": [
       "            date       county       state  cases  deaths  Day  Month  Year\n",
       "0     2020-01-25       Orange  California      1     0.0   25      1  2020\n",
       "1     2020-01-26  Los Angeles  California      1     0.0   26      1  2020\n",
       "2     2020-01-26       Orange  California      1     0.0   26      1  2020\n",
       "3     2020-01-27  Los Angeles  California      1     0.0   27      1  2020\n",
       "4     2020-01-27       Orange  California      1     0.0   27      1  2020\n",
       "...          ...          ...         ...    ...     ...  ...    ...   ...\n",
       "23292 2021-04-22       Tulare  California  49469   831.0   22      4  2021\n",
       "23293 2021-04-22     Tuolumne  California   4091    64.0   22      4  2021\n",
       "23294 2021-04-22      Ventura  California  80398  1002.0   22      4  2021\n",
       "23295 2021-04-22         Yolo  California  13606   200.0   22      4  2021\n",
       "23296 2021-04-22         Yuba  California   6138    44.0   22      4  2021\n",
       "\n",
       "[23297 rows x 8 columns]"
      ],
      "text/html": "<div>\n<style scoped>\n    .dataframe tbody tr th:only-of-type {\n        vertical-align: middle;\n    }\n\n    .dataframe tbody tr th {\n        vertical-align: top;\n    }\n\n    .dataframe thead th {\n        text-align: right;\n    }\n</style>\n<table border=\"1\" class=\"dataframe\">\n  <thead>\n    <tr style=\"text-align: right;\">\n      <th></th>\n      <th>date</th>\n      <th>county</th>\n      <th>state</th>\n      <th>cases</th>\n      <th>deaths</th>\n      <th>Day</th>\n      <th>Month</th>\n      <th>Year</th>\n    </tr>\n  </thead>\n  <tbody>\n    <tr>\n      <th>0</th>\n      <td>2020-01-25</td>\n      <td>Orange</td>\n      <td>California</td>\n      <td>1</td>\n      <td>0.0</td>\n      <td>25</td>\n      <td>1</td>\n      <td>2020</td>\n    </tr>\n    <tr>\n      <th>1</th>\n      <td>2020-01-26</td>\n      <td>Los Angeles</td>\n      <td>California</td>\n      <td>1</td>\n      <td>0.0</td>\n      <td>26</td>\n      <td>1</td>\n      <td>2020</td>\n    </tr>\n    <tr>\n      <th>2</th>\n      <td>2020-01-26</td>\n      <td>Orange</td>\n      <td>California</td>\n      <td>1</td>\n      <td>0.0</td>\n      <td>26</td>\n      <td>1</td>\n      <td>2020</td>\n    </tr>\n    <tr>\n      <th>3</th>\n      <td>2020-01-27</td>\n      <td>Los Angeles</td>\n      <td>California</td>\n      <td>1</td>\n      <td>0.0</td>\n      <td>27</td>\n      <td>1</td>\n      <td>2020</td>\n    </tr>\n    <tr>\n      <th>4</th>\n      <td>2020-01-27</td>\n      <td>Orange</td>\n      <td>California</td>\n      <td>1</td>\n      <td>0.0</td>\n      <td>27</td>\n      <td>1</td>\n      <td>2020</td>\n    </tr>\n    <tr>\n      <th>...</th>\n      <td>...</td>\n      <td>...</td>\n      <td>...</td>\n      <td>...</td>\n      <td>...</td>\n      <td>...</td>\n      <td>...</td>\n      <td>...</td>\n    </tr>\n    <tr>\n      <th>23292</th>\n      <td>2021-04-22</td>\n      <td>Tulare</td>\n      <td>California</td>\n      <td>49469</td>\n      <td>831.0</td>\n      <td>22</td>\n      <td>4</td>\n      <td>2021</td>\n    </tr>\n    <tr>\n      <th>23293</th>\n      <td>2021-04-22</td>\n      <td>Tuolumne</td>\n      <td>California</td>\n      <td>4091</td>\n      <td>64.0</td>\n      <td>22</td>\n      <td>4</td>\n      <td>2021</td>\n    </tr>\n    <tr>\n      <th>23294</th>\n      <td>2021-04-22</td>\n      <td>Ventura</td>\n      <td>California</td>\n      <td>80398</td>\n      <td>1002.0</td>\n      <td>22</td>\n      <td>4</td>\n      <td>2021</td>\n    </tr>\n    <tr>\n      <th>23295</th>\n      <td>2021-04-22</td>\n      <td>Yolo</td>\n      <td>California</td>\n      <td>13606</td>\n      <td>200.0</td>\n      <td>22</td>\n      <td>4</td>\n      <td>2021</td>\n    </tr>\n    <tr>\n      <th>23296</th>\n      <td>2021-04-22</td>\n      <td>Yuba</td>\n      <td>California</td>\n      <td>6138</td>\n      <td>44.0</td>\n      <td>22</td>\n      <td>4</td>\n      <td>2021</td>\n    </tr>\n  </tbody>\n</table>\n<p>23297 rows × 8 columns</p>\n</div>"
     },
     "metadata": {},
     "execution_count": 6
    }
   ],
   "source": [
    "#Separate date into three columns \n",
    "CA_counties_df.reset_index(inplace=True)\n",
    "\n",
    "CA_counties_df[\"Day\"] = CA_counties_df[\"date\"].dt.day\n",
    "CA_counties_df[\"Month\"] = CA_counties_df[\"date\"].dt.month\n",
    "CA_counties_df[\"Year\"] = CA_counties_df[\"date\"].dt.year\n",
    "CA_counties_df"
   ]
  },
  {
   "cell_type": "code",
   "execution_count": 7,
   "metadata": {},
   "outputs": [
    {
     "output_type": "stream",
     "name": "stderr",
     "text": [
      "C:\\Users\\Sneakers and Gear\\anaconda3\\lib\\site-packages\\pandas\\core\\frame.py:4296: SettingWithCopyWarning: \nA value is trying to be set on a copy of a slice from a DataFrame\n\nSee the caveats in the documentation: https://pandas.pydata.org/pandas-docs/stable/user_guide/indexing.html#returning-a-view-versus-a-copy\n  return super().rename(\n"
     ]
    },
    {
     "output_type": "execute_result",
     "data": {
      "text/plain": [
       "            Date       County       State  Cases  Deaths  Day  Month  Year\n",
       "0     2020-01-25       Orange  California      1     0.0   25      1  2020\n",
       "1     2020-01-26  Los Angeles  California      1     0.0   26      1  2020\n",
       "2     2020-01-26       Orange  California      1     0.0   26      1  2020\n",
       "3     2020-01-27  Los Angeles  California      1     0.0   27      1  2020\n",
       "4     2020-01-27       Orange  California      1     0.0   27      1  2020\n",
       "...          ...          ...         ...    ...     ...  ...    ...   ...\n",
       "23292 2021-04-22       Tulare  California  49469   831.0   22      4  2021\n",
       "23293 2021-04-22     Tuolumne  California   4091    64.0   22      4  2021\n",
       "23294 2021-04-22      Ventura  California  80398  1002.0   22      4  2021\n",
       "23295 2021-04-22         Yolo  California  13606   200.0   22      4  2021\n",
       "23296 2021-04-22         Yuba  California   6138    44.0   22      4  2021\n",
       "\n",
       "[23297 rows x 8 columns]"
      ],
      "text/html": "<div>\n<style scoped>\n    .dataframe tbody tr th:only-of-type {\n        vertical-align: middle;\n    }\n\n    .dataframe tbody tr th {\n        vertical-align: top;\n    }\n\n    .dataframe thead th {\n        text-align: right;\n    }\n</style>\n<table border=\"1\" class=\"dataframe\">\n  <thead>\n    <tr style=\"text-align: right;\">\n      <th></th>\n      <th>Date</th>\n      <th>County</th>\n      <th>State</th>\n      <th>Cases</th>\n      <th>Deaths</th>\n      <th>Day</th>\n      <th>Month</th>\n      <th>Year</th>\n    </tr>\n  </thead>\n  <tbody>\n    <tr>\n      <th>0</th>\n      <td>2020-01-25</td>\n      <td>Orange</td>\n      <td>California</td>\n      <td>1</td>\n      <td>0.0</td>\n      <td>25</td>\n      <td>1</td>\n      <td>2020</td>\n    </tr>\n    <tr>\n      <th>1</th>\n      <td>2020-01-26</td>\n      <td>Los Angeles</td>\n      <td>California</td>\n      <td>1</td>\n      <td>0.0</td>\n      <td>26</td>\n      <td>1</td>\n      <td>2020</td>\n    </tr>\n    <tr>\n      <th>2</th>\n      <td>2020-01-26</td>\n      <td>Orange</td>\n      <td>California</td>\n      <td>1</td>\n      <td>0.0</td>\n      <td>26</td>\n      <td>1</td>\n      <td>2020</td>\n    </tr>\n    <tr>\n      <th>3</th>\n      <td>2020-01-27</td>\n      <td>Los Angeles</td>\n      <td>California</td>\n      <td>1</td>\n      <td>0.0</td>\n      <td>27</td>\n      <td>1</td>\n      <td>2020</td>\n    </tr>\n    <tr>\n      <th>4</th>\n      <td>2020-01-27</td>\n      <td>Orange</td>\n      <td>California</td>\n      <td>1</td>\n      <td>0.0</td>\n      <td>27</td>\n      <td>1</td>\n      <td>2020</td>\n    </tr>\n    <tr>\n      <th>...</th>\n      <td>...</td>\n      <td>...</td>\n      <td>...</td>\n      <td>...</td>\n      <td>...</td>\n      <td>...</td>\n      <td>...</td>\n      <td>...</td>\n    </tr>\n    <tr>\n      <th>23292</th>\n      <td>2021-04-22</td>\n      <td>Tulare</td>\n      <td>California</td>\n      <td>49469</td>\n      <td>831.0</td>\n      <td>22</td>\n      <td>4</td>\n      <td>2021</td>\n    </tr>\n    <tr>\n      <th>23293</th>\n      <td>2021-04-22</td>\n      <td>Tuolumne</td>\n      <td>California</td>\n      <td>4091</td>\n      <td>64.0</td>\n      <td>22</td>\n      <td>4</td>\n      <td>2021</td>\n    </tr>\n    <tr>\n      <th>23294</th>\n      <td>2021-04-22</td>\n      <td>Ventura</td>\n      <td>California</td>\n      <td>80398</td>\n      <td>1002.0</td>\n      <td>22</td>\n      <td>4</td>\n      <td>2021</td>\n    </tr>\n    <tr>\n      <th>23295</th>\n      <td>2021-04-22</td>\n      <td>Yolo</td>\n      <td>California</td>\n      <td>13606</td>\n      <td>200.0</td>\n      <td>22</td>\n      <td>4</td>\n      <td>2021</td>\n    </tr>\n    <tr>\n      <th>23296</th>\n      <td>2021-04-22</td>\n      <td>Yuba</td>\n      <td>California</td>\n      <td>6138</td>\n      <td>44.0</td>\n      <td>22</td>\n      <td>4</td>\n      <td>2021</td>\n    </tr>\n  </tbody>\n</table>\n<p>23297 rows × 8 columns</p>\n</div>"
     },
     "metadata": {},
     "execution_count": 7
    }
   ],
   "source": [
    "CA_counties_df.rename(columns = {\"date\":\"Date\",\n",
    "                                \"county\":\"County\",\n",
    "                                \"state\":\"State\",\n",
    "                                \"cases\":\"Cases\",\n",
    "                                \"deaths\":\"Deaths\"}, inplace=True)\n",
    "CA_counties_df"
   ]
  },
  {
   "cell_type": "code",
   "execution_count": 8,
   "metadata": {},
   "outputs": [],
   "source": [
    "CA_counties_df.to_csv(\"Resources/CA_County_Data.csv\")"
   ]
  },
  {
   "cell_type": "code",
   "execution_count": 9,
   "metadata": {},
   "outputs": [
    {
     "output_type": "execute_result",
     "data": {
      "text/plain": [
       "          State          County  Population  DEATHS2019  NATURALINC2010  \\\n",
       "190  California      California    39512223      282520           66008   \n",
       "191  California  Alameda County     1671329       10944            2726   \n",
       "192  California   Alpine County        1129           5              -2   \n",
       "193  California   Amador County       39752         427              -5   \n",
       "194  California    Butte County      219186        2527             106   \n",
       "\n",
       "     NATURALINC2011  NATURALINC2012  NATURALINC2013  NATURALINC2014  \\\n",
       "190          271383          257916          251925          254859   \n",
       "191           10144            9772            9849           10248   \n",
       "192              -3              -1              -1              -3   \n",
       "193            -177            -147            -167            -138   \n",
       "194             264             156              17             333   \n",
       "\n",
       "     NATURALINC2015  ...  RDOMESTICMIG2019  RNETMIG2011  RNETMIG2012  \\\n",
       "190          246582  ...         -5.151429     1.276797     1.495016   \n",
       "191            9887  ...         -6.965670     5.134201     8.497481   \n",
       "192              -7  ...         31.559964   -57.675244    15.433500   \n",
       "193            -132  ...         11.395076    -4.401490    -7.930660   \n",
       "194             145  ...        -50.048384    -1.050181     3.461542   \n",
       "\n",
       "     RNETMIG2013  RNETMIG2014  RNETMIG2015  RNETMIG2016  RNETMIG2017  \\\n",
       "190     1.649031     2.203551     1.984957     0.500044    -0.629909   \n",
       "191    10.150136    11.190365    10.411032     3.989666    -0.196911   \n",
       "192    16.085791   -41.666667     2.781641   -22.598870    62.094532   \n",
       "193    -8.843796     6.680664    11.822607    14.531292    32.491640   \n",
       "194     3.493706     6.968328     4.413730     6.840230    11.052323   \n",
       "\n",
       "     RNETMIG2018  RNETMIG2019  \n",
       "190    -2.130954    -3.276681  \n",
       "191    -0.945009    -1.848964  \n",
       "192   -20.000000    32.461677  \n",
       "193    24.867195    11.824602  \n",
       "194     7.768471   -49.590123  \n",
       "\n",
       "[5 rows x 119 columns]"
      ],
      "text/html": "<div>\n<style scoped>\n    .dataframe tbody tr th:only-of-type {\n        vertical-align: middle;\n    }\n\n    .dataframe tbody tr th {\n        vertical-align: top;\n    }\n\n    .dataframe thead th {\n        text-align: right;\n    }\n</style>\n<table border=\"1\" class=\"dataframe\">\n  <thead>\n    <tr style=\"text-align: right;\">\n      <th></th>\n      <th>State</th>\n      <th>County</th>\n      <th>Population</th>\n      <th>DEATHS2019</th>\n      <th>NATURALINC2010</th>\n      <th>NATURALINC2011</th>\n      <th>NATURALINC2012</th>\n      <th>NATURALINC2013</th>\n      <th>NATURALINC2014</th>\n      <th>NATURALINC2015</th>\n      <th>...</th>\n      <th>RDOMESTICMIG2019</th>\n      <th>RNETMIG2011</th>\n      <th>RNETMIG2012</th>\n      <th>RNETMIG2013</th>\n      <th>RNETMIG2014</th>\n      <th>RNETMIG2015</th>\n      <th>RNETMIG2016</th>\n      <th>RNETMIG2017</th>\n      <th>RNETMIG2018</th>\n      <th>RNETMIG2019</th>\n    </tr>\n  </thead>\n  <tbody>\n    <tr>\n      <th>190</th>\n      <td>California</td>\n      <td>California</td>\n      <td>39512223</td>\n      <td>282520</td>\n      <td>66008</td>\n      <td>271383</td>\n      <td>257916</td>\n      <td>251925</td>\n      <td>254859</td>\n      <td>246582</td>\n      <td>...</td>\n      <td>-5.151429</td>\n      <td>1.276797</td>\n      <td>1.495016</td>\n      <td>1.649031</td>\n      <td>2.203551</td>\n      <td>1.984957</td>\n      <td>0.500044</td>\n      <td>-0.629909</td>\n      <td>-2.130954</td>\n      <td>-3.276681</td>\n    </tr>\n    <tr>\n      <th>191</th>\n      <td>California</td>\n      <td>Alameda County</td>\n      <td>1671329</td>\n      <td>10944</td>\n      <td>2726</td>\n      <td>10144</td>\n      <td>9772</td>\n      <td>9849</td>\n      <td>10248</td>\n      <td>9887</td>\n      <td>...</td>\n      <td>-6.965670</td>\n      <td>5.134201</td>\n      <td>8.497481</td>\n      <td>10.150136</td>\n      <td>11.190365</td>\n      <td>10.411032</td>\n      <td>3.989666</td>\n      <td>-0.196911</td>\n      <td>-0.945009</td>\n      <td>-1.848964</td>\n    </tr>\n    <tr>\n      <th>192</th>\n      <td>California</td>\n      <td>Alpine County</td>\n      <td>1129</td>\n      <td>5</td>\n      <td>-2</td>\n      <td>-3</td>\n      <td>-1</td>\n      <td>-1</td>\n      <td>-3</td>\n      <td>-7</td>\n      <td>...</td>\n      <td>31.559964</td>\n      <td>-57.675244</td>\n      <td>15.433500</td>\n      <td>16.085791</td>\n      <td>-41.666667</td>\n      <td>2.781641</td>\n      <td>-22.598870</td>\n      <td>62.094532</td>\n      <td>-20.000000</td>\n      <td>32.461677</td>\n    </tr>\n    <tr>\n      <th>193</th>\n      <td>California</td>\n      <td>Amador County</td>\n      <td>39752</td>\n      <td>427</td>\n      <td>-5</td>\n      <td>-177</td>\n      <td>-147</td>\n      <td>-167</td>\n      <td>-138</td>\n      <td>-132</td>\n      <td>...</td>\n      <td>11.395076</td>\n      <td>-4.401490</td>\n      <td>-7.930660</td>\n      <td>-8.843796</td>\n      <td>6.680664</td>\n      <td>11.822607</td>\n      <td>14.531292</td>\n      <td>32.491640</td>\n      <td>24.867195</td>\n      <td>11.824602</td>\n    </tr>\n    <tr>\n      <th>194</th>\n      <td>California</td>\n      <td>Butte County</td>\n      <td>219186</td>\n      <td>2527</td>\n      <td>106</td>\n      <td>264</td>\n      <td>156</td>\n      <td>17</td>\n      <td>333</td>\n      <td>145</td>\n      <td>...</td>\n      <td>-50.048384</td>\n      <td>-1.050181</td>\n      <td>3.461542</td>\n      <td>3.493706</td>\n      <td>6.968328</td>\n      <td>4.413730</td>\n      <td>6.840230</td>\n      <td>11.052323</td>\n      <td>7.768471</td>\n      <td>-49.590123</td>\n    </tr>\n  </tbody>\n</table>\n<p>5 rows × 119 columns</p>\n</div>"
     },
     "metadata": {},
     "execution_count": 9
    }
   ],
   "source": [
    "#### Had initial problems. Discovered that all US .gov docs are encoded ANSI, \n",
    "# or have fixed length columns. You must open in note pad and save as utf-8.\n",
    "census_data = pd.read_csv(census_data_path)\n",
    "\n",
    "# rename columns to use initial Caps.\n",
    "census_data.rename(columns = {'STNAME' : 'State', 'CTYNAME' : 'County', \n",
    "                              'POPESTIMATE2019' : 'Population'}, inplace = True)\n",
    "census_df = pd.DataFrame(census_data)\n",
    "census_df.drop(census_df.columns[[0, 1, 2, 3, 4, 7, 8, 9, 10, 11, 12, 13, 14, 15, 16, 17, 19, 20, 21, \n",
    "                                  22, 23, 24, 25, 26, 27, 28, 29, 30, 31, 32, 33, 34, 35, 36, 37, 38, \n",
    "                                  39, 40, 41, 42, 43, 44, 45, 46, 47]], axis = 1, inplace = True)\n",
    "\n",
    "# filter rows in state that equal California\n",
    "census_ca = census_df.loc[census_df['State'] == 'California']\n",
    "\n",
    "census_ca.head()\n",
    "#print('\\nResult census_ca :\\n'', \n",
    "\n",
    "# Create new pd.DataFrame using only State, County, \n",
    "\n",
    "# Checking if update works."
   ]
  },
  {
   "cell_type": "code",
   "execution_count": 10,
   "metadata": {},
   "outputs": [
    {
     "output_type": "execute_result",
     "data": {
      "text/plain": [
       "          State          County  Population  DEATHS2019\n",
       "190  California      California    39512223      282520\n",
       "191  California  Alameda County     1671329       10944\n",
       "192  California   Alpine County        1129           5\n",
       "193  California   Amador County       39752         427\n",
       "194  California    Butte County      219186        2527"
      ],
      "text/html": "<div>\n<style scoped>\n    .dataframe tbody tr th:only-of-type {\n        vertical-align: middle;\n    }\n\n    .dataframe tbody tr th {\n        vertical-align: top;\n    }\n\n    .dataframe thead th {\n        text-align: right;\n    }\n</style>\n<table border=\"1\" class=\"dataframe\">\n  <thead>\n    <tr style=\"text-align: right;\">\n      <th></th>\n      <th>State</th>\n      <th>County</th>\n      <th>Population</th>\n      <th>DEATHS2019</th>\n    </tr>\n  </thead>\n  <tbody>\n    <tr>\n      <th>190</th>\n      <td>California</td>\n      <td>California</td>\n      <td>39512223</td>\n      <td>282520</td>\n    </tr>\n    <tr>\n      <th>191</th>\n      <td>California</td>\n      <td>Alameda County</td>\n      <td>1671329</td>\n      <td>10944</td>\n    </tr>\n    <tr>\n      <th>192</th>\n      <td>California</td>\n      <td>Alpine County</td>\n      <td>1129</td>\n      <td>5</td>\n    </tr>\n    <tr>\n      <th>193</th>\n      <td>California</td>\n      <td>Amador County</td>\n      <td>39752</td>\n      <td>427</td>\n    </tr>\n    <tr>\n      <th>194</th>\n      <td>California</td>\n      <td>Butte County</td>\n      <td>219186</td>\n      <td>2527</td>\n    </tr>\n  </tbody>\n</table>\n</div>"
     },
     "metadata": {},
     "execution_count": 10
    }
   ],
   "source": [
    "# Filter to show necessary columns\n",
    "census_filtered = census_ca[['State', 'County', 'Population', 'DEATHS2019']]\n",
    "census_filtered.head()"
   ]
  },
  {
   "cell_type": "code",
   "execution_count": 11,
   "metadata": {},
   "outputs": [
    {
     "output_type": "execute_result",
     "data": {
      "text/plain": [
       "      County    Month  Year Unemployment Monthly Households    Persons  \\\n",
       "0  Statewide  January  2019                 4.8%  1,906,041  3,764,747   \n",
       "1    Alameda  January  2019                 0.3%     53,529     93,512   \n",
       "2     Alpine  January  2019                 4.7%         70        114   \n",
       "3     Amador  January  2019                 4.9%      1,462      2,573   \n",
       "4      Butte  January  2019                 6.6%     16,535     29,634   \n",
       "\n",
       "  Applications Recevied Online Applications Received     EBT Cash  \n",
       "0               165,779                       72,917  936,417,639  \n",
       "1                 5,515                        2,428   24,484,650  \n",
       "2                     4                            1       27,662  \n",
       "3                   154                           40      607,423  \n",
       "4                 2,043                        1,085    7,170,854  "
      ],
      "text/html": "<div>\n<style scoped>\n    .dataframe tbody tr th:only-of-type {\n        vertical-align: middle;\n    }\n\n    .dataframe tbody tr th {\n        vertical-align: top;\n    }\n\n    .dataframe thead th {\n        text-align: right;\n    }\n</style>\n<table border=\"1\" class=\"dataframe\">\n  <thead>\n    <tr style=\"text-align: right;\">\n      <th></th>\n      <th>County</th>\n      <th>Month</th>\n      <th>Year</th>\n      <th>Unemployment Monthly</th>\n      <th>Households</th>\n      <th>Persons</th>\n      <th>Applications Recevied</th>\n      <th>Online Applications Received</th>\n      <th>EBT Cash</th>\n    </tr>\n  </thead>\n  <tbody>\n    <tr>\n      <th>0</th>\n      <td>Statewide</td>\n      <td>January</td>\n      <td>2019</td>\n      <td>4.8%</td>\n      <td>1,906,041</td>\n      <td>3,764,747</td>\n      <td>165,779</td>\n      <td>72,917</td>\n      <td>936,417,639</td>\n    </tr>\n    <tr>\n      <th>1</th>\n      <td>Alameda</td>\n      <td>January</td>\n      <td>2019</td>\n      <td>0.3%</td>\n      <td>53,529</td>\n      <td>93,512</td>\n      <td>5,515</td>\n      <td>2,428</td>\n      <td>24,484,650</td>\n    </tr>\n    <tr>\n      <th>2</th>\n      <td>Alpine</td>\n      <td>January</td>\n      <td>2019</td>\n      <td>4.7%</td>\n      <td>70</td>\n      <td>114</td>\n      <td>4</td>\n      <td>1</td>\n      <td>27,662</td>\n    </tr>\n    <tr>\n      <th>3</th>\n      <td>Amador</td>\n      <td>January</td>\n      <td>2019</td>\n      <td>4.9%</td>\n      <td>1,462</td>\n      <td>2,573</td>\n      <td>154</td>\n      <td>40</td>\n      <td>607,423</td>\n    </tr>\n    <tr>\n      <th>4</th>\n      <td>Butte</td>\n      <td>January</td>\n      <td>2019</td>\n      <td>6.6%</td>\n      <td>16,535</td>\n      <td>29,634</td>\n      <td>2,043</td>\n      <td>1,085</td>\n      <td>7,170,854</td>\n    </tr>\n  </tbody>\n</table>\n</div>"
     },
     "metadata": {},
     "execution_count": 11
    }
   ],
   "source": [
    "# Remove 'Date' Column from CSV, not usable for analysis. Is not an actual date, is only the Month and year joined. (DHall)\n",
    "del calfresh_data['Date']\n",
    "\n",
    "calfresh_data.head()"
   ]
  },
  {
   "cell_type": "code",
   "execution_count": 12,
   "metadata": {},
   "outputs": [
    {
     "output_type": "execute_result",
     "data": {
      "text/plain": [
       "        County    Month  Year Unemployment Monthly Households    Persons  \\\n",
       "708  Statewide  January  2020                 4.3%  2,176,109  4,075,962   \n",
       "709    Alameda  January  2020                 3.1%     65,302    112,881   \n",
       "710     Alpine  January  2020                 4.6%         77        126   \n",
       "711     Amador  January  2020                 4.7%      1,496      2,588   \n",
       "712      Butte  January  2020                 5.6%     17,028     28,648   \n",
       "\n",
       "    Applications Recevied Online Applications Received     EBT Cash  \n",
       "708               187,228                       86,463  500,169,011  \n",
       "709                 6,341                        2,939   13,678,807  \n",
       "710                     7                            0       14,377  \n",
       "711                   171                           41      305,508  \n",
       "712                 1,901                        1,014    3,503,997  "
      ],
      "text/html": "<div>\n<style scoped>\n    .dataframe tbody tr th:only-of-type {\n        vertical-align: middle;\n    }\n\n    .dataframe tbody tr th {\n        vertical-align: top;\n    }\n\n    .dataframe thead th {\n        text-align: right;\n    }\n</style>\n<table border=\"1\" class=\"dataframe\">\n  <thead>\n    <tr style=\"text-align: right;\">\n      <th></th>\n      <th>County</th>\n      <th>Month</th>\n      <th>Year</th>\n      <th>Unemployment Monthly</th>\n      <th>Households</th>\n      <th>Persons</th>\n      <th>Applications Recevied</th>\n      <th>Online Applications Received</th>\n      <th>EBT Cash</th>\n    </tr>\n  </thead>\n  <tbody>\n    <tr>\n      <th>708</th>\n      <td>Statewide</td>\n      <td>January</td>\n      <td>2020</td>\n      <td>4.3%</td>\n      <td>2,176,109</td>\n      <td>4,075,962</td>\n      <td>187,228</td>\n      <td>86,463</td>\n      <td>500,169,011</td>\n    </tr>\n    <tr>\n      <th>709</th>\n      <td>Alameda</td>\n      <td>January</td>\n      <td>2020</td>\n      <td>3.1%</td>\n      <td>65,302</td>\n      <td>112,881</td>\n      <td>6,341</td>\n      <td>2,939</td>\n      <td>13,678,807</td>\n    </tr>\n    <tr>\n      <th>710</th>\n      <td>Alpine</td>\n      <td>January</td>\n      <td>2020</td>\n      <td>4.6%</td>\n      <td>77</td>\n      <td>126</td>\n      <td>7</td>\n      <td>0</td>\n      <td>14,377</td>\n    </tr>\n    <tr>\n      <th>711</th>\n      <td>Amador</td>\n      <td>January</td>\n      <td>2020</td>\n      <td>4.7%</td>\n      <td>1,496</td>\n      <td>2,588</td>\n      <td>171</td>\n      <td>41</td>\n      <td>305,508</td>\n    </tr>\n    <tr>\n      <th>712</th>\n      <td>Butte</td>\n      <td>January</td>\n      <td>2020</td>\n      <td>5.6%</td>\n      <td>17,028</td>\n      <td>28,648</td>\n      <td>1,901</td>\n      <td>1,014</td>\n      <td>3,503,997</td>\n    </tr>\n  </tbody>\n</table>\n</div>"
     },
     "metadata": {},
     "execution_count": 12
    }
   ],
   "source": [
    "#Filter calfreash data by 2020 and 2021 (DHall)\n",
    "calfresh_data20_21 = calfresh_data[calfresh_data['Year']!=2019]\n",
    "\n",
    "calfresh_data20_21.head()"
   ]
  },
  {
   "cell_type": "code",
   "execution_count": 13,
   "metadata": {},
   "outputs": [],
   "source": [
    "#Export Updated CSV to Resource Folder (DHall)\n",
    "calfresh_data20_21.to_csv('Resources/calfresh_data20_21.csv')"
   ]
  },
  {
   "cell_type": "code",
   "execution_count": 6,
   "metadata": {},
   "outputs": [],
   "source": [
    "\n",
    "# Combine CalFresh, census and counties data into a single dataset (JC)\n",
    "\n",
    "\n",
    "# Create pd.DataFrame for population density by county. Timeframe 1-2020 to 3-2021\n",
    "\n",
    "# Create pd.DataFrame for CalFresh recipients by county. Timeframe 1-2020 to 3-2021\n",
    "\n",
    "# Create pd.DataFrame for total Covid cases by county. Timeframe 1-2020 to 3-2021\n",
    "# Display the data table for preview\n"
   ]
  },
  {
   "cell_type": "code",
   "execution_count": null,
   "metadata": {},
   "outputs": [],
   "source": []
  },
  {
   "cell_type": "markdown",
   "metadata": {},
   "source": [
    "# Summary Statistics"
   ]
  },
  {
   "cell_type": "code",
   "execution_count": null,
   "metadata": {},
   "outputs": [],
   "source": [
    "\n"
   ]
  },
  {
   "cell_type": "markdown",
   "metadata": {},
   "source": [
    "## Line Chart "
   ]
  },
  {
   "cell_type": "code",
   "execution_count": 7,
   "metadata": {},
   "outputs": [],
   "source": [
    "# Show CA state covid cases over months using line plot. Years on x-axis and population on y-axis\n",
    "# Timeframe: Jan 2020 to March 2021\n"
   ]
  },
  {
   "cell_type": "code",
   "execution_count": 8,
   "metadata": {},
   "outputs": [],
   "source": [
    "# Graph trends amoungst various counties on a single plot. Pick 5, at least one urban area\n",
    "# Timeframe: Jan 2020 to March 2021\n"
   ]
  },
  {
   "cell_type": "code",
   "execution_count": 9,
   "metadata": {},
   "outputs": [],
   "source": [
    "# Correlation Rise of Covid and CalFresh (maybe unemployment) vs number of people receiving CalFresh aid."
   ]
  },
  {
   "cell_type": "markdown",
   "metadata": {},
   "source": [
    "### Bar Chart"
   ]
  },
  {
   "cell_type": "code",
   "execution_count": 10,
   "metadata": {},
   "outputs": [],
   "source": [
    "# Number of Covid cases in all counties. Sort decending"
   ]
  },
  {
   "cell_type": "code",
   "execution_count": 11,
   "metadata": {},
   "outputs": [],
   "source": [
    "# Number of Covid cases in top 10 counties. Sort decending"
   ]
  },
  {
   "cell_type": "code",
   "execution_count": null,
   "metadata": {},
   "outputs": [],
   "source": []
  },
  {
   "cell_type": "code",
   "execution_count": null,
   "metadata": {},
   "outputs": [],
   "source": []
  }
 ],
 "metadata": {
  "kernelspec": {
   "name": "python385jvsc74a57bd025ccd8def72f6692586959901061b5030f77648558fd6ffa67ce9122663909b4",
   "display_name": "Python 3.8.5 64-bit (conda)"
  },
  "language_info": {
   "codemirror_mode": {
    "name": "ipython",
    "version": 3
   },
   "file_extension": ".py",
   "mimetype": "text/x-python",
   "name": "python",
   "nbconvert_exporter": "python",
   "pygments_lexer": "ipython3",
   "version": "3.8.5"
  }
 },
 "nbformat": 4,
 "nbformat_minor": 4
}