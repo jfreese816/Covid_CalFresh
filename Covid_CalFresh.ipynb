{
 "cells": [
  {
   "cell_type": "markdown",
   "metadata": {},
   "source": [
    "# Observations and Insights"
   ]
  },
  {
   "cell_type": "markdown",
   "metadata": {},
   "source": [
    "<hr>"
   ]
  },
  {
   "cell_type": "code",
   "execution_count": null,
   "metadata": {},
   "outputs": [],
   "source": [
    "# Dependencies and Setup (John)\n",
    "import matplotlib.pyplot as plt\n",
    "import pandas as pd\n",
    "import scipy.stats as st\n",
    "import numpy as np\n",
    "import calendar\n",
    "\n",
    "# CalFresh data file path (DeJuan)\n",
    "calfresh_data_path = \"Resources/CalFresh Data 19 - Current.csv\"\n",
    "# Census data file path (Jackson)\n",
    "census_data_path = \"Resources/co-est2019-alldata.csv\"\n",
    "# us-counties data file path (Siddharth)\n",
    "all_counties_path = \"Resources/us-counties.csv\"\n"
   ]
  },
  {
   "cell_type": "code",
   "execution_count": null,
   "metadata": {},
   "outputs": [],
   "source": [
    "# Read the all three datasets (John)\n",
    "calfresh_data = pd.read_csv(calfresh_data_path)\n",
    "\n",
    "# rename columns.\n",
    "calfresh_data.rename(columns = {'Calendar Year' : 'Year', 'Unemployment Monthly\t' : 'Unemployment', \n",
    "                                'CalFresh Households' : 'Households', 'CalFresh Persons' : 'Persons', \n",
    "                                'EBT_FSP_dollars' : 'EBT Cash'}, inplace = True)\n",
    "\n",
    "# removed 'del calfresh_data['Date]'.  \n",
    "# Use .drop function. Removed columns 7-8 as not needed, and index 0 (row 1). (John)\n",
    "calfresh_data.drop(calfresh_data.columns[[2, 7, 8]], axis = 1, inplace = True)\n",
    "\n",
    "## ** Ask TA why index 0 can't be dropped ---------------- ** ##\n",
    "#calfresh_data.drop(labels=[0], axis=0)\n",
    "#calfresh_data.drop(calfresh_data.index [[ 0]])\n",
    "## ** ---------------------------------------------------- ** ##\n",
    "\n",
    "# remove commas in the entire dataframe and convert number strings to a number int. (John)\n",
    "calfresh_df = pd.DataFrame(calfresh_data)\n",
    "calfresh_df.replace(',','', regex=True, inplace=True)\n",
    "# dictionary to convert specific columns to number dtype (John)\n",
    "\n",
    "calfresh_df = calfresh_df.astype({'Households': 'int64', 'Persons': 'int64', 'EBT Cash': 'int64'})\n",
    "\n",
    "#Filter calfreash data by 2020 and 2021 (DHall)\n",
    "calfresh_data20_21 = calfresh_df[calfresh_df['Year']!=2019]\n",
    "\n",
    "#Export Updated CSV to Resource Folder (DHall)\n",
    "calfresh_data20_21.to_csv('Resources/calfresh_data20_21.csv')\n",
    "\n",
    "calfresh_data20_21"
   ]
  },
  {
   "cell_type": "code",
   "execution_count": null,
   "metadata": {},
   "outputs": [],
   "source": [
    "#CA County Data (Jackson)\n",
    "#Data cleanup: Separate date into 3 columns, MONTH, DATE, YEAR. Isolate counties to CA. Drop FIPS column. \n",
    "all_counties = pd.read_csv(all_counties_path,index_col=0, parse_dates=True)\n",
    "\n",
    "#Drop FIPS column\n",
    "all_counties_df = pd.DataFrame(all_counties).drop([\"fips\"], axis=1)\n",
    "\n",
    "#Isolate counties to CA \n",
    "CA_counties_df = all_counties_df[all_counties_df[\"state\"] == \"California\"]\n",
    "\n",
    "CA_counties_df.reset_index(inplace=True)\n",
    "CA_counties_df = CA_counties_df.astype({'date': str})\n",
    "CA_counties_df[[\"year\", \"month\", \"day\"]] = CA_counties_df[\"date\"].str.split(\"-\", expand = True)\n",
    "CA_counties_df = CA_counties_df.astype({'deaths': int, 'year': int, 'month': int, 'day': int})\n",
    "CA_counties_df.pop('date')  # Deleted original date column\n",
    "CA_counties_df.head()\n",
    "\n",
    "#print(CA_counties_df)\n",
    "#CA_counties_df.dtypes"
   ]
  },
  {
   "cell_type": "code",
   "execution_count": null,
   "metadata": {},
   "outputs": [],
   "source": [
    "CA_counties_df.to_csv(\"Resources/CA_County_Data.csv\")"
   ]
  },
  {
   "cell_type": "code",
   "execution_count": null,
   "metadata": {},
   "outputs": [],
   "source": [
    "# Filter to show necessary columns adn rename columns to use initial Caps.\n",
    "census_data = pd.read_csv(census_data_path)\n",
    "census_data.rename(columns = {'STNAME' : 'State', 'CTYNAME' : 'County', \n",
    "                              'POPESTIMATE2019' : 'Population'}, inplace = True)\n",
    "census_df = pd.DataFrame(census_data)\n",
    "\n",
    "# filter rows in state that equal California and required columns (Siddharth)\n",
    "census_ca = census_df.loc[census_df['State'] == 'California']\n",
    "census_filtered = census_ca[['State', 'County', 'Population', 'DEATHS2019']]\n",
    "census_filtered.head()"
   ]
  },
  {
   "cell_type": "code",
   "execution_count": null,
   "metadata": {},
   "outputs": [],
   "source": [
    "\n",
    "# Combine CalFresh, census and counties data into a single dataset (JC)\n",
    "\n",
    "\n",
    "# Create pd.DataFrame for population density by county. Timeframe 1-2020 to 3-2021\n",
    "\n",
    "# Create pd.DataFrame for CalFresh recipients by county. Timeframe 1-2020 to 3-2021\n",
    "\n",
    "# Create pd.DataFrame for total Covid cases by county. Timeframe 1-2020 to 3-2021\n",
    "# Display the data table for preview\n"
   ]
  },
  {
   "cell_type": "markdown",
   "metadata": {},
   "source": [
    "# Summary Statistics"
   ]
  },
  {
   "cell_type": "code",
   "execution_count": null,
   "metadata": {},
   "outputs": [],
   "source": [
    "\n"
   ]
  },
  {
   "cell_type": "markdown",
   "metadata": {},
   "source": [
    "## Line Chart "
   ]
  },
  {
   "cell_type": "code",
   "execution_count": null,
   "metadata": {},
   "outputs": [],
   "source": [
    "# Show CA state covid cases over months using line plot. Years on x-axis and population on y-axis\n",
    "# Timeframe: Jan 2020 to March 2021\n"
   ]
  },
  {
   "cell_type": "code",
   "execution_count": null,
   "metadata": {},
   "outputs": [],
   "source": [
    "# Graph trends amoungst various counties on a single plot. Pick 5, at least one urban area\n",
    "# Timeframe: Jan 2020 to March 2021\n"
   ]
  },
  {
   "cell_type": "code",
   "execution_count": null,
   "metadata": {},
   "outputs": [],
   "source": [
    "# Correlation Rise of Covid and CalFresh (maybe unemployment) vs number of people receiving CalFresh aid."
   ]
  },
  {
   "cell_type": "markdown",
   "metadata": {},
   "source": [
    "### Bar Chart"
   ]
  },
  {
   "cell_type": "code",
   "execution_count": null,
   "metadata": {},
   "outputs": [],
   "source": [
    "# Number of Covid cases in all counties. Sort decending"
   ]
  },
  {
   "cell_type": "code",
   "execution_count": null,
   "metadata": {},
   "outputs": [],
   "source": [
    "# Number of Covid cases in top 10 counties. Sort decending"
   ]
  }
 ],
 "metadata": {
  "kernelspec": {
   "display_name": "Python 3",
   "language": "python",
   "name": "python3"
  },
  "language_info": {
   "codemirror_mode": {
    "name": "ipython",
    "version": 3
   },
   "file_extension": ".py",
   "mimetype": "text/x-python",
   "name": "python",
   "nbconvert_exporter": "python",
   "pygments_lexer": "ipython3",
   "version": "3.6.10"
  }
 },
 "nbformat": 4,
 "nbformat_minor": 4
}
